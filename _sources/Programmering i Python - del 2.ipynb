{
 "cells": [
  {
   "cell_type": "code",
   "execution_count": 1,
   "id": "e652f043-4b12-44fe-bdee-338917294e97",
   "metadata": {},
   "outputs": [],
   "source": [
    "! pip install matplotlib --quiet"
   ]
  },
  {
   "cell_type": "markdown",
   "id": "f763444d-a675-4c69-8f55-e57ca3943d50",
   "metadata": {},
   "source": [
    "# Arrayer og tabeller"
   ]
  },
  {
   "cell_type": "markdown",
   "id": "cfd85243-0328-42e0-9e3a-42aa29e0267e",
   "metadata": {},
   "source": [
    "## Lister, tupler og biblioteker"
   ]
  },
  {
   "cell_type": "markdown",
   "id": "3e783fc1-0265-4ec4-939c-c18a3f7dd809",
   "metadata": {},
   "source": [
    "I tillegg til de vanlige datatypene vi allerede har snakket om har Pyton også mulighet for å huske flere verdier en og samme variabeltype. Python har innebygget 3 forskjellige typer for dette, lister, tupler og dictionaries. Vi skal her kun se på den første typen:"
   ]
  },
  {
   "cell_type": "code",
   "execution_count": 2,
   "id": "dfd2b8ea-64ac-4c26-a101-3a8bf6ac098e",
   "metadata": {},
   "outputs": [
    {
     "name": "stdout",
     "output_type": "stream",
     "text": [
      "[3.3, 4.2, -8.0, 1.6]\n",
      "['Ole', 101, True, -4.89]\n"
     ]
    }
   ],
   "source": [
    "# Deklarasjon av liste uten innhold\n",
    "tomListe = []\n",
    "\n",
    "# liste med floats\n",
    "listeDesimaltall = [3.3, 4.2, -8.0, 1.6]\n",
    "#liste med forskjellige datatyper\n",
    "listeMix = [\"Ole\", 101, True, -4.89]\n",
    "\n",
    "print(listeDesimaltall)\n",
    "print(listeMix)"
   ]
  },
  {
   "cell_type": "markdown",
   "id": "43a8daab-720b-4985-be6c-63df284d4f23",
   "metadata": {},
   "source": [
    "Som dere ser av eksemplet kan en liste bestå av ingen, en eller flere elementer. Siden Python ikke er kresent på datatyper så kan en liste bestå av hvilken som helst av disse og til og med forskjellige datatyper i samme liste. Dette er ikke vanlig i andre programmeringsspråk. For å skrive ut ett element fra listen brukes skrivemåten minListe[posisjon]. Legg merke til at referansen til første element starter på 0 og ikke 1."
   ]
  },
  {
   "cell_type": "markdown",
   "id": "d4ae7b00-c497-478c-9f39-1bec1b52d58e",
   "metadata": {},
   "source": [
    "Det går også an å skrive ut deler av listen på en enkel måte. Grensene angis slik: minListe[a:b]. Dersom du ikke angir start eller slutt vil Python anta at du vil ha med alt fra begynnelsen eller alt frem til slutten av listen. Se følgende eksempel:"
   ]
  },
  {
   "cell_type": "code",
   "execution_count": 3,
   "id": "719297fe-85e4-4fd3-aa9e-1104081b09f2",
   "metadata": {},
   "outputs": [
    {
     "name": "stdout",
     "output_type": "stream",
     "text": [
      "['Kari', 'Ali']\n",
      "['Ole', 'Thomas', 'Kari']\n",
      "['Miriam', 'Martine', 'Jonas', 'Vilde']\n"
     ]
    }
   ],
   "source": [
    "minListe = [\"Ole\", \"Thomas\", \"Kari\", \"Ali\", \"Miriam\", \"Martine\", \"Jonas\", \"Vilde\"]\n",
    "\n",
    "print(minListe[2:4])\n",
    "print(minListe[:3])\n",
    "print(minListe[4:])"
   ]
  },
  {
   "cell_type": "markdown",
   "id": "eb7bebcb-49ed-4b67-a857-f76b00945d36",
   "metadata": {},
   "source": [
    "Det finnes mange funksjoner som hører til datatypen lister, og vi skal ikke gå igjennom alle sammen her. Men som eksempler på nyttige funksjoner skal vi se på hvordan man kan legge til og fjerne elementer, samt sortere lister. Se eksempelet under:"
   ]
  },
  {
   "cell_type": "code",
   "execution_count": 4,
   "id": "819d108c-3941-4609-aa4d-9522f6ee120a",
   "metadata": {},
   "outputs": [
    {
     "name": "stdout",
     "output_type": "stream",
     "text": [
      "['Ole', 'Thomas', 'Kari', 'Ali', 'Miriam', 'Martine', 'Jonas', 'Vilde']\n",
      "['Ole', 'Thomas', 'Kari', 'Ali', 'Miriam', 'Martine', 'Jonas', 'Vilde', 'Hermann']\n",
      "['Ole', 'Thomas', 'Ali', 'Miriam', 'Martine', 'Jonas', 'Vilde', 'Hermann']\n",
      "Thomas\n",
      "['Ole', 'Ali', 'Miriam', 'Martine', 'Jonas', 'Vilde', 'Hermann']\n",
      "['Ali', 'Hermann', 'Jonas', 'Martine', 'Miriam', 'Ole', 'Vilde']\n"
     ]
    }
   ],
   "source": [
    "minListe = [\"Ole\", \"Thomas\", \"Kari\", \"Ali\", \"Miriam\", \"Martine\", \"Jonas\", \"Vilde\"]\n",
    "print(minListe)\n",
    "\n",
    "# Legger til element på slutten av listen\n",
    "minListe.append(\"Hermann\")\n",
    "print(minListe)\n",
    "\n",
    "# Fjerner et objekt fra listen\n",
    "minListe.remove(\"Kari\")\n",
    "print(minListe)\n",
    "\n",
    "# Fjerner element fra listen basert på ideks, og sparer i en variabel (popping)\n",
    "navn = minListe.pop(1)\n",
    "print(navn)\n",
    "print(minListe)\n",
    "\n",
    "# Sorterer listen alfabetisk\n",
    "minListe.sort()\n",
    "print(minListe)"
   ]
  },
  {
   "cell_type": "markdown",
   "id": "9a958722-171d-4391-bfdb-bfc2f6fda1cf",
   "metadata": {},
   "source": [
    "- Append legger til et element på slutten av listen.\n",
    "- Remove trekker fra bestemte objekter i lista. Hvis flere elementer er likeså fjernes alle.\n",
    "- Pop henter ut et element fra listen og returnerer elementet slik at det kan for eksempel skrives ut eller legges i en annen variabel. Dersom pop kalles uten indeks (for eksempel: minListe.pop() ), vil den hente ut det siste elementet i listen."
   ]
  },
  {
   "cell_type": "markdown",
   "id": "121b83a9-55fd-4aa8-b691-f1fd066f800e",
   "metadata": {},
   "source": [
    "## Iterasjon av lister"
   ]
  },
  {
   "cell_type": "markdown",
   "id": "f624a63c-13d0-4ca0-9685-f0f4a5ef10aa",
   "metadata": {},
   "source": [
    "Å iterere en liste betyr å «bla igjennom lista», gjerne i en for-sløyfe. I mange kodespråk gjøres dette på den første måten som vist i eksempelet over ved at man lager en teller (index) som teller fra 0 og til antall elementer i listen, og henter ut elementene ved hjelp av denne indeksen."
   ]
  },
  {
   "cell_type": "markdown",
   "id": "6494ac8e-9882-42e8-a475-d5482dea5bc9",
   "metadata": {},
   "source": [
    "En mer snedig måte å gjøre dette på er vist i den nederste metoden: Her skjønner pyton at den skal gå igjennom listen, men i stedet for å bruke en tallindeks, henter python automatisk hvert element in i sløyfevariablen direkte."
   ]
  },
  {
   "cell_type": "code",
   "execution_count": 5,
   "id": "d5b5b9f5-e9ea-4c16-a904-4446ea2174d3",
   "metadata": {},
   "outputs": [
    {
     "name": "stdout",
     "output_type": "stream",
     "text": [
      "Ole\n",
      "Thomas\n",
      "Kari\n",
      "Ali\n",
      "Miriam\n",
      "Martine\n",
      "Jonas\n",
      "Vilde\n",
      "\n",
      "Ole\n",
      "Thomas\n",
      "Kari\n",
      "Ali\n",
      "Miriam\n",
      "Martine\n",
      "Jonas\n",
      "Vilde\n"
     ]
    }
   ],
   "source": [
    "minListe = [\"Ole\", \"Thomas\", \"Kari\", \"Ali\", \"Miriam\", \"Martine\", \"Jonas\", \"Vilde\"]\n",
    "\n",
    "# Iterasjon med index, len() gir lengden på lista\n",
    "for index in range(len(minListe)):\n",
    "    print(minListe[index])\n",
    "\n",
    "# for mellomrom i utskrift\n",
    "print(\"\")\n",
    "\n",
    "# Iterasjon med elementmetode (snedig)\n",
    "for element in minListe:\n",
    "    print(element)\n"
   ]
  },
  {
   "cell_type": "markdown",
   "id": "5f9f7d3e-a9b8-4b51-a885-1341ecb39b11",
   "metadata": {},
   "source": [
    "## Arrayer"
   ]
  },
  {
   "cell_type": "markdown",
   "id": "c55c0524-40c5-4245-8f43-847486d62bd3",
   "metadata": {},
   "source": [
    "En array er en form for liste hvor alle elementene er av samme datatype. Et array kan være endimensjonalt, som en vanlig liste, men kan også ha flere dimensjoner. For eksempel vil en tabell kunne representeres ved hjelp av en 2-dimensjonal liste. Python har ikke denne datatypen innebygget, men slike finnes i mange standardbiblioteker vi kan benytte oss av. Et vanlig og bra bibliotek til matematikk heter numpy. Dette biblioteker inneholder også ferdigkompilerte rutiner skrevet i C som gjør at det kan gjøre beregninger med og behandle store datamengder på relativt kort tid."
   ]
  },
  {
   "cell_type": "markdown",
   "id": "ad220a5b-b0c2-4988-b309-1a10a32bbff9",
   "metadata": {},
   "source": [
    "Et array kan lages manuelt, og inneholde forskjellige datatyper akkurat som den innebygde typen liste i python. Men vi skal heller konsentrere oss om hvordan vi kan bruke disse til å lage funksjonstabeller og matematiske analyser"
   ]
  },
  {
   "cell_type": "markdown",
   "id": "5b0ae38e-e0c4-4f43-9bfe-92ec88bcf4b0",
   "metadata": {},
   "source": [
    "Funksjonen linspace lager en array hvor du kan bestemme start og sluttverdi, og hvor mange elementer du vil ha med i arrayet. Dette er nyttig når man for eksempel skal lage en tabell med x-verdier. Se på følgende eksempel."
   ]
  },
  {
   "cell_type": "code",
   "execution_count": 6,
   "id": "77c2e268-7583-4ca6-99e7-97cdd7446caf",
   "metadata": {},
   "outputs": [
    {
     "name": "stdout",
     "output_type": "stream",
     "text": [
      "[-2. -1.  0.  1.  2.  3.  4.  5.  6.]\n"
     ]
    }
   ],
   "source": [
    "import numpy as np\n",
    "\n",
    "x_array = np.linspace(-2, 6, 9)\n",
    "print(x_array)"
   ]
  },
  {
   "cell_type": "markdown",
   "id": "97437166-6e45-4348-900b-ad13cad5e349",
   "metadata": {},
   "source": [
    "Man kan lage slike linspaces (linear spaces) med så mange elementer du vil for bedre oppløsning under beregninger, plotting og så videre. Hvis jeg vil ha 50 x-verdier mellom -3 til +8 skriver jeg kommandoen slik:"
   ]
  },
  {
   "cell_type": "code",
   "execution_count": 7,
   "id": "1ff36403-d3e1-4708-80fa-8bcfa1c72a2a",
   "metadata": {},
   "outputs": [
    {
     "name": "stdout",
     "output_type": "stream",
     "text": [
      "[-3.         -2.7755102  -2.55102041 -2.32653061 -2.10204082 -1.87755102\n",
      " -1.65306122 -1.42857143 -1.20408163 -0.97959184 -0.75510204 -0.53061224\n",
      " -0.30612245 -0.08163265  0.14285714  0.36734694  0.59183673  0.81632653\n",
      "  1.04081633  1.26530612  1.48979592  1.71428571  1.93877551  2.16326531\n",
      "  2.3877551   2.6122449   2.83673469  3.06122449  3.28571429  3.51020408\n",
      "  3.73469388  3.95918367  4.18367347  4.40816327  4.63265306  4.85714286\n",
      "  5.08163265  5.30612245  5.53061224  5.75510204  5.97959184  6.20408163\n",
      "  6.42857143  6.65306122  6.87755102  7.10204082  7.32653061  7.55102041\n",
      "  7.7755102   8.        ]\n"
     ]
    }
   ],
   "source": [
    "import numpy as np\n",
    "\n",
    "x_array = np.linspace(-3, 8, 50)\n",
    "print(x_array)"
   ]
  },
  {
   "cell_type": "markdown",
   "id": "40a5ac34-c3c7-44a7-a628-4d9b812f5d62",
   "metadata": {},
   "source": [
    "Hvis jeg nå vil gjøre beregninger på x-tabellen min gjøres det superenkelt og superraskt ved hjelp av de vanlige regneartene i python. Hvis jeg vil ha en funksjonstabell over f-verdiene til funksjonen: $$ f(x) = x^2 - 4 $$"
   ]
  },
  {
   "cell_type": "code",
   "execution_count": 8,
   "id": "598afa76-946f-44e5-92d1-c5f7c54ecc23",
   "metadata": {},
   "outputs": [
    {
     "name": "stdout",
     "output_type": "stream",
     "text": [
      "[ 5.          3.70345689  2.50770512  1.41274469  0.41857559 -0.47480217\n",
      " -1.26738859 -1.95918367 -2.55018742 -3.04039983 -3.42982091 -3.71845065\n",
      " -3.90628905 -3.99333611 -3.97959184 -3.86505623 -3.64972928 -3.333611\n",
      " -2.91670137 -2.39900042 -1.78050812 -1.06122449 -0.24114952  0.67971678\n",
      "  1.70137443  2.82382341  4.04706372  5.37109538  6.79591837  8.32153269\n",
      "  9.94793836 11.67513536 13.5031237  15.43190337 17.46147439 19.59183673\n",
      " 21.82299042 24.15493544 26.5876718  29.1211995  31.75551853 34.4906289\n",
      " 37.32653061 40.26322366 43.30070804 46.43898376 49.67805081 53.0179092\n",
      " 56.45855893 60.        ]\n"
     ]
    }
   ],
   "source": [
    "import numpy as np\n",
    "\n",
    "x = np.linspace(-3, 8, 50)\n",
    "y = x**2 - 4\n",
    "\n",
    "print(y)"
   ]
  },
  {
   "cell_type": "markdown",
   "id": "ad2afdf3-0f55-4568-85f0-3a9cdd61cf53",
   "metadata": {},
   "source": [
    "Det er imidlertid en ting du ikke kan gjøre med arrays fra numpy-biblioteket, og det er å bruke matematikkfunksjoner fra andre biblioteker på arrays. Du kan for eksempel ikke bruke kvadratrot eller trigonometriske funksjoner fra math-biblioteket, da må du bruke de funksjonene som er inkludert i numpy slik:"
   ]
  },
  {
   "cell_type": "code",
   "execution_count": 9,
   "id": "534faec8-ed7f-414a-8f93-d0030968bcc6",
   "metadata": {},
   "outputs": [
    {
     "name": "stdout",
     "output_type": "stream",
     "text": [
      "[-0.14112001 -0.35796023 -0.55683643 -0.72776815 -0.86217727 -0.95331856\n",
      " -0.99661815 -0.98990308 -0.93351033 -0.83026995 -0.68536298 -0.5060615\n",
      " -0.30136363 -0.08154202  0.14237173  0.35914064  0.5578863   0.72863478\n",
      "  0.86281718  0.95369963  0.99672126  0.98972305  0.9330562   0.8295645\n",
      "  0.68444163  0.50497047  0.30015769  0.08028167 -0.14362322 -0.36032048\n",
      " -0.55893528 -0.72950025 -0.86345571 -0.95407918 -0.99682278 -0.98954144\n",
      " -0.93260058 -0.82885774 -0.68351918 -0.50387864 -0.29895126 -0.0790212\n",
      "  0.14487449  0.36149974  0.55998336  0.73036456  0.86409286  0.9544572\n",
      "  0.9969227   0.98935825]\n"
     ]
    }
   ],
   "source": [
    "import numpy as np\n",
    "\n",
    "x = np.linspace(-3, 8, 50)\n",
    "y = np.sin(x)\n",
    "\n",
    "print(y)"
   ]
  },
  {
   "cell_type": "markdown",
   "id": "9ef392bd-7e31-411d-97e0-cab02fd35af1",
   "metadata": {},
   "source": [
    "Grunnen til dette er at math-biblioteket kun kan operere med et og ett element om gangen, mens numpy-biblioteket skjønner at operasjonen skal gjøres på hvert eneste elemen i arrayet for seg. (Dette kalles for elementvis operasjon)"
   ]
  },
  {
   "cell_type": "markdown",
   "id": "f9740d5c-de93-4794-8761-c89a6e6520b6",
   "metadata": {
    "tags": []
   },
   "source": [
    "## Iterasjon av Arrays"
   ]
  },
  {
   "cell_type": "markdown",
   "id": "8f5ce718-dcc3-4f58-8cd2-18f11b61fb8b",
   "metadata": {},
   "source": [
    "Iterasjon av arrays er helt likt som for lister. Følgende eksempel itererer et array som heter x, og regner riemannsummen under funksjonsverdien. Verdien til elementene hentes ut med x[i], der i er elementnummeret som telles opp i for-sløyfa:"
   ]
  },
  {
   "cell_type": "code",
   "execution_count": 10,
   "id": "8b903b30-99a6-479d-960c-37289d9aca02",
   "metadata": {},
   "outputs": [
    {
     "name": "stdout",
     "output_type": "stream",
     "text": [
      "-3.0\n",
      "-2.0\n",
      "-1.0\n",
      "0.0\n",
      "1.0\n",
      "2.0\n",
      "3.0\n"
     ]
    }
   ],
   "source": [
    "minArray = np.linspace(-3, 3, 7)\n",
    "for i in range(minArray.size):\n",
    "    print(minArray[i])"
   ]
  },
  {
   "cell_type": "markdown",
   "id": "c0df3274-33b9-4355-ab28-cbcfcd8e23a4",
   "metadata": {},
   "source": [
    "Det går også an å bruke «elementmetoden» på arrays."
   ]
  },
  {
   "cell_type": "code",
   "execution_count": 11,
   "id": "a6742afe-b756-4a0c-aeb3-6ae26bfa2a60",
   "metadata": {},
   "outputs": [
    {
     "name": "stdout",
     "output_type": "stream",
     "text": [
      "-3.0\n",
      "-2.0\n",
      "-1.0\n",
      "0.0\n",
      "1.0\n",
      "2.0\n",
      "3.0\n"
     ]
    }
   ],
   "source": [
    "minArray = np.linspace(-3, 3, 7)\n",
    "for element in minArray:\n",
    "    print(element)"
   ]
  },
  {
   "cell_type": "markdown",
   "id": "f33a6406-e7cd-404a-99ba-2aa681348e8c",
   "metadata": {},
   "source": [
    "# Plotting"
   ]
  },
  {
   "cell_type": "markdown",
   "id": "4119ca5c-224c-4913-b9fe-929ce2f59bdf",
   "metadata": {},
   "source": [
    "I forrige seksjon brukte vi print til å se på verdiene i listene og arrayene våre. Det går selvfølgelig an å plotte grafer fra disse tabellverdiene. Det finnes mange biblioteker som kan tilby dette, men vi skal konsentrere oss om funksjonen plot fra biblioteket matplotlib. Dette er et stort bibliotek med mange undergrupper – derfor skal vi ikke importere hele biblioteket, så legg merke til hvordan vi importerer her. (Mer om importmetoder lenger ned i dokumentet!)"
   ]
  },
  {
   "cell_type": "markdown",
   "id": "27758177-061c-47a5-a1a3-f74d1d59055c",
   "metadata": {},
   "source": [
    "For å lage et enkelt plot lager jeg en x og en y-tabell først, og sender disse som argumenter inn i plottefunksjonen. Her er også kode for å sette navn på aksene. Flere funksjoner i dette biblioteket kan du finne online. I dette eksempelet vil jeg plotte grafen til funksjonen $$ f(x)=-x^3-3x^2+2x-2 $$"
   ]
  },
  {
   "cell_type": "code",
   "execution_count": 12,
   "id": "71b4f9fa-3996-4fa2-871e-5e3ffbfdef5d",
   "metadata": {
    "tags": []
   },
   "outputs": [
    {
     "data": {
      "text/plain": [
       "[<matplotlib.lines.Line2D at 0x290d3cc1640>]"
      ]
     },
     "execution_count": 12,
     "metadata": {},
     "output_type": "execute_result"
    },
    {
     "data": {
      "image/png": "[encoded data removed]",
      "text/plain": [
       "<Figure size 432x288 with 1 Axes>"
      ]
     },
     "metadata": {
      "needs_background": "light"
     },
     "output_type": "display_data"
    }
   ],
   "source": [
    "import matplotlib.pyplot as plt\n",
    "import numpy as np\n",
    "\n",
    "# Lager x-verditabell\n",
    "x = np.linspace(-10, 10, 100)\n",
    "y = -x**3-3*x**2+2*x-2\n",
    "\n",
    "# Plotter y mot x og setter på aksenavn\n",
    "plt.xlabel(\"x-akse\")\n",
    "plt.ylabel(\"y-akse\")\n",
    "plt.plot(x,y)"
   ]
  },
  {
   "cell_type": "markdown",
   "id": "8eb1e425-2f17-4c5c-9d80-d4039ba92d98",
   "metadata": {},
   "source": [
    "# Funksjoner"
   ]
  },
  {
   "cell_type": "markdown",
   "id": "8f1d9a91-6cb3-4a10-8bcb-43a671644ee3",
   "metadata": {},
   "source": [
    "Funksjoner i programmering er ikke det helt samme som funksjoner i matematikk, men de har noen likheter. I programmering er funksjoner ferdiglagede kodesnutter som skal brukes flere ganger. Du har allerede brukt mange forskjellige funksjoner i de kodesnuttene som er beskrevet over i dokumentet."
   ]
  },
  {
   "cell_type": "markdown",
   "id": "282c1280-cd25-4dd9-80b8-9ba336aa87d6",
   "metadata": {},
   "source": [
    "I turtle-biblioteket var det f.eks funksjonen forward(), left(), right() som fikk skilpadden til å bevege seg. Du har mange ganger brukt den innebyggede funksjonen print() for å skrive verdier til konsoll. Vi har også sett på matematiske funksjoner, som sin() og sqrt() og i forrige seksjon så vi på funksjonen plot() som kunne skrive ut grafer.\n",
    "Du kan også lage dine egne funksjoner i python. Funksjoner kan ta såkalt input (en eller flere) og den kan returnere output (en eller flere), men de må ikke. Dette kalles parameteroverføring, og vi sier at en funksjon tar ingen, en eller flere parameter inn. Variabler som er laget inni en funksjon er såkalt «lokale», dvs de eksisterer kun inne i funksjonen. Man kan heller ikke endre på variabler fra «utsiden» inne i funksjoner. Dette er fordi en funksjon ikke skal lage krøll på dine variabler eller variabler i andre funksjoner."
   ]
  },
  {
   "cell_type": "markdown",
   "id": "ebce937a-04ea-46ec-a425-4adc90b03fa5",
   "metadata": {},
   "source": [
    "Nedenfor er det 3 eksempler på funksjoner. Legg merke til at vi gjenbruker a og b som variabler, det er helt ok siden de kun eksisterer inne i hver sin funksjon."
   ]
  },
  {
   "cell_type": "code",
   "execution_count": 13,
   "id": "121167ec-91c0-4cb6-8428-8bdf16b4e8b2",
   "metadata": {},
   "outputs": [
    {
     "name": "stdout",
     "output_type": "stream",
     "text": [
      "Denne funksjonen skriver bare ut dette\n",
      "Svaret er: 2 + 5 = 7\n",
      "Svaret er: -3 + 2 = -1\n",
      "Svaret er: 3 * 4 = 12\n",
      "Svaret er: -5 * 6 = -30\n"
     ]
    }
   ],
   "source": [
    "# Funksjonsdefinisjoner skal stå øverst i pythonkoden ( i det minste før den kalles og kjøres )\n",
    "\n",
    "# en funksjon uten argumenter (parametere) hverken input eller output\n",
    "def funksjonUten():\n",
    "    print(\"Denne funksjonen skriver bare ut dette\")\n",
    "    \n",
    "# en funksjon med 2 input og ingen output\n",
    "def leggSammen(a,b):\n",
    "    print(\"Svaret er:\",a,\"+\",b,\"=\", a+b)\n",
    "    \n",
    "# en funksjon med 2 input og en output\n",
    "def multipliser(a,b):\n",
    "    svartekst = \"Svaret er: \"+str(a)+\" * \"+str(b)+\" = \"+str(a*b)\n",
    "    return svartekst\n",
    "\n",
    "# Kaller funksjonene:\n",
    "\n",
    "# første funksjone er bare en sekvens\n",
    "funksjonUten()\n",
    "\n",
    "# den andre funksjonen tar forskjellige parameter inn, men skriver ut svaret fra inne i funksjonen\n",
    "leggSammen(2,5)\n",
    "leggSammen(-3,2)\n",
    "\n",
    "# den tredje funksjonen returnerer svaret slik at vi kan spare den i vår egen variabel\n",
    "svar = multipliser(3,4)\n",
    "print(svar)\n",
    "# eller bruke den direkte som input i en annen funksjon (snedig)\n",
    "print(multipliser(-5,6))"
   ]
  },
  {
   "cell_type": "markdown",
   "id": "bea2e73a-f5e8-4472-9ec7-b6423d6262a7",
   "metadata": {},
   "source": [
    "## Hvordan bruke funksjoner i matematisk sammenheng"
   ]
  },
  {
   "cell_type": "code",
   "execution_count": 14,
   "id": "a62f3549-0d1d-4d8a-b264-f212108afd28",
   "metadata": {
    "tags": []
   },
   "outputs": [
    {
     "data": {
      "text/plain": [
       "[<matplotlib.lines.Line2D at 0x290d44845b0>]"
      ]
     },
     "execution_count": 14,
     "metadata": {},
     "output_type": "execute_result"
    },
    {
     "data": {
      "image/png": "[encoded data removed]",
      "text/plain": [
       "<Figure size 432x288 with 1 Axes>"
      ]
     },
     "metadata": {
      "needs_background": "light"
     },
     "output_type": "display_data"
    }
   ],
   "source": [
    "import matplotlib.pyplot as plt\n",
    "import numpy as np\n",
    "\n",
    "# definerer funksjonene\n",
    "def f(x):\n",
    "    return x**2-4\n",
    "\n",
    "def g(x):\n",
    "    return -np.sin(x)\n",
    "\n",
    "# Lager x-verditabell\n",
    "x = np.linspace(-4, 4, 100)\n",
    "\n",
    "# Plotter y mot x og setter på aksenavn\n",
    "plt.xlabel(\"x-akse\")\n",
    "plt.ylabel(\"y-akse\")\n",
    "# siden funksjonen returnerer y-tabell kan jeg bruke funksjonskallet direkte i plot()\n",
    "plt.plot(x,f(x))\n",
    "plt.plot(x,g(x))"
   ]
  },
  {
   "cell_type": "markdown",
   "id": "57b3591f-6ed2-493d-a609-3ac707a575e9",
   "metadata": {},
   "source": [
    "# Biblioteker"
   ]
  },
  {
   "cell_type": "markdown",
   "id": "73cc7cef-5eaf-4a20-993c-a3bc6cbc561a",
   "metadata": {},
   "source": [
    "Python er et programmeringsspråk under utvikling, selv om struktur og basiskommandoer er uendret kan det hende at det kommer nye konvensjoner på hvordan ting skal gjøres. Derfor kan det hende at man i noen kodeeksempler ser at ting blir gjort på én måte, mens i andre eksempler en annen. I skrivende stund er Python i versjon 3, som kom i 2008. Likevel er det vanlig å finne eksempler som er skrevet i versjon 2.7. Disse eksemplene kjører fint i Python 3, men det hender at du vil få en advarsel under kjøring."
   ]
  },
  {
   "cell_type": "markdown",
   "id": "6ec04f67-022b-43bc-9be2-365e221ff9b7",
   "metadata": {},
   "source": [
    "## \"Star imports\""
   ]
  },
  {
   "cell_type": "markdown",
   "id": "484affbf-4f90-4b04-8bef-b5564e04f0ba",
   "metadata": {},
   "source": [
    "Det er spesielt en ting man skal legge merke til. Når det gjelder importering av biblioteker vil man nå, i de fleste utviklingsmiljøer (f. eks Spyder) få advarsel hvis man prøver å importere hele biblioteker uten å gi de et lokalt navn. Se eksempelet under:"
   ]
  },
  {
   "cell_type": "code",
   "execution_count": 15,
   "id": "711f4593-4fdb-4047-8039-715f4f08da5c",
   "metadata": {},
   "outputs": [
    {
     "name": "stdout",
     "output_type": "stream",
     "text": [
      "-2.4492935982947064e-16\n"
     ]
    }
   ],
   "source": [
    "from math import *\n",
    "from numpy import *\n",
    "\n",
    "svar = sin(2*pi)\n",
    "print(svar)"
   ]
  },
  {
   "cell_type": "markdown",
   "id": "f31de0e7-6246-45c3-b7aa-3d0aa4ab89e6",
   "metadata": {},
   "source": [
    "Her er bibliotekene math og numpy importert på den gamle måten med alle sine respektive funksjoner. Det betyr at hvis disse bibliotekene inneholder en funksjon eller en konstant med samme navn, så vet ikke Python hvilken som skal kjøres. Og begge disse matematikkbibliotekene inneholder hver sin utgave av funksjonen sin() og pi. I den 3. instruksen her, svar = sin(2*pi), velger sannsynligvis Python fra det biblioteket som ble importert først. Akkurat her har det ikke noe å si for resultatet, men det er ikke alltid sikkert."
   ]
  },
  {
   "cell_type": "markdown",
   "id": "5fd84b25-b2bf-4b2b-8901-f63df9478ea0",
   "metadata": {},
   "source": [
    "## Import-metoden"
   ]
  },
  {
   "cell_type": "markdown",
   "id": "69e44666-7d63-446b-b9d9-49cc3cbe16cd",
   "metadata": {},
   "source": [
    "En mye bedre måte å importere biblioteker på er å bruke denne metoden:"
   ]
  },
  {
   "cell_type": "code",
   "execution_count": 16,
   "id": "90047a3b-8ad5-4824-bc52-88a0a531288f",
   "metadata": {},
   "outputs": [
    {
     "name": "stdout",
     "output_type": "stream",
     "text": [
      "-2.4492935982947064e-16\n"
     ]
    }
   ],
   "source": [
    "import math\n",
    "import numpy\n",
    "\n",
    "svar = math.sin(2*numpy.pi)\n",
    "print(svar)"
   ]
  },
  {
   "cell_type": "markdown",
   "id": "084c4514-658b-41aa-b683-606c15b75829",
   "metadata": {},
   "source": [
    "Her blir bibliotekenes funksjoner importer under sitt eget navn. Når man da skal kalle funksjoner eller bruke konstanter fra bibliotekene så angir man dette med biblioteksnavnet som prefiks slik: biblioteksnavn.funksjonsnavn() eller konstantnavn. På denne måten kan vi importere biblioteker som inneholder funksjoner med samme navn uten at det blir problemer av det. I eksempelet over brukes sinusfunksjonen fra math, og konstanten pi fra numpy"
   ]
  },
  {
   "cell_type": "markdown",
   "id": "0cdd6a2d-5900-4a49-b94c-112388ae5d40",
   "metadata": {},
   "source": [
    "## Alias-metoden"
   ]
  },
  {
   "cell_type": "markdown",
   "id": "bfa3b3bc-7183-448a-852f-275e8e3b33f0",
   "metadata": {},
   "source": [
    "Man kan også importere biblioteker og gi de et lokalt alias. Denne metoden er ofte brukt for å lage forkortelser, eller hvis man skal importere et underbibliotek"
   ]
  },
  {
   "cell_type": "code",
   "execution_count": 17,
   "id": "b0bbbc25-24d4-4e51-ae29-61f5464db08f",
   "metadata": {},
   "outputs": [
    {
     "name": "stdout",
     "output_type": "stream",
     "text": [
      "-2.4492935982947064e-16\n"
     ]
    }
   ],
   "source": [
    "import math as m\n",
    "import numpy as np\n",
    "\n",
    "svar = np.sin(2*m.pi)\n",
    "print(svar)"
   ]
  },
  {
   "cell_type": "markdown",
   "id": "00170d92-7e5a-4cfa-82ec-342111f00895",
   "metadata": {},
   "source": [
    "Her er bibliotekene math og numpy importert slik at de får de lokale aliasene m og np. Man kan selv velge hvilket alias som skal brukes lokalt, men det er lurt å velge et navn slik at man husker hva det refererer til. Hvis man vil bruke sin() fra numpy, så skriver man np.sin(). I eksempelet over henter vi sin() fra numpy og konstanten pi fra math. (Motsatt av forrige eksempel!)"
   ]
  },
  {
   "cell_type": "markdown",
   "id": "75d06fc3-f7c8-4ae2-931a-8787a8fd342d",
   "metadata": {},
   "source": [
    "## Importere del av et bibliotek"
   ]
  },
  {
   "cell_type": "markdown",
   "id": "1ef8a7ab-db0b-4a9c-b859-74ae57badb53",
   "metadata": {},
   "source": [
    "Noen ganger vil man ikke importere hele biblioteker, da kan man importere bare den biten man ønsker seg. I eksempelet under vil vi importere en plottefunksjon fra mathplotlib, som er et ganske omfattende bibliotek."
   ]
  },
  {
   "cell_type": "code",
   "execution_count": 18,
   "id": "c920ad92-03d1-453b-99e9-3acb43beaf8e",
   "metadata": {},
   "outputs": [
    {
     "data": {
      "text/plain": [
       "[<matplotlib.lines.Line2D at 0x290d44f6c40>]"
      ]
     },
     "execution_count": 18,
     "metadata": {},
     "output_type": "execute_result"
    },
    {
     "data": {
      "image/png": "[encoded data removed]",
      "text/plain": [
       "<Figure size 432x288 with 1 Axes>"
      ]
     },
     "metadata": {
      "needs_background": "light"
     },
     "output_type": "display_data"
    }
   ],
   "source": [
    "import matplotlib.pyplot as plt\n",
    "import numpy as np\n",
    "\n",
    "x = np.linspace(-4,4,100)\n",
    "y = x**2-4\n",
    "\n",
    "plt.plot(x,y)"
   ]
  },
  {
   "cell_type": "markdown",
   "id": "319b6601-78c8-4ce7-ae58-ac6d019ae7cb",
   "metadata": {},
   "source": [
    "Koden over importerer kun underbiblioteket pyplot og vi gir det det lokale aliaset plt, som nå refererer direkte til dette."
   ]
  }
 ],
 "metadata": {
  "kernelspec": {
   "display_name": "Python 3 (ipykernel)",
   "language": "python",
   "name": "python3"
  },
  "language_info": {
   "codemirror_mode": {
    "name": "ipython",
    "version": 3
   },
   "file_extension": ".py",
   "mimetype": "text/x-python",
   "name": "python",
   "nbconvert_exporter": "python",
   "pygments_lexer": "ipython3",
   "version": "3.11.5"
  }
 },
 "nbformat": 4,
 "nbformat_minor": 5
}
