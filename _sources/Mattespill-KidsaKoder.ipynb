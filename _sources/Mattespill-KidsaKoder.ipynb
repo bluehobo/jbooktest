{
 "cells": [
  {
   "cell_type": "markdown",
   "id": "e6dd6e4f-a755-4f57-a843-25426527b7a9",
   "metadata": {},
   "source": [
    "# Mattespill - fra kidsakoder.no"
   ]
  },
  {
   "cell_type": "markdown",
   "id": "8635178e-84e0-482e-b3a8-173203b3ab41",
   "metadata": {},
   "source": [
    "Forfatter: Geir Arne Hjelle\n",
    "\n",
    "Url: https://oppgaver.kidsakoder.no/python/mattespill/mattespill\n",
    "\n",
    "Omskrevet til Jupyter Notebook av Sigurd Rage USN"
   ]
  },
  {
   "cell_type": "markdown",
   "id": "259b25af-049e-43cd-92fd-27ab71f846f2",
   "metadata": {},
   "source": [
    "## Introduksjon"
   ]
  },
  {
   "cell_type": "markdown",
   "id": "5635b312-d939-4228-be74-7fab124d9620",
   "metadata": {},
   "source": [
    "I denne leksjonen vil vi se litt nærmere på hvordan Python jobber med tall, og vi vil lage et enkelt mattespill. Vi vil også se hvordan vi kan gjøre ting tilfeldige.\n",
    "\n",
    "Forutsetter kjennskap til print-funksjonen, variabler, if-tester og for-sløyfer."
   ]
  },
  {
   "cell_type": "markdown",
   "id": "ec6cea8f-d3e9-43b9-8e08-f1de5e245217",
   "metadata": {},
   "source": [
    "# Steg 1: De fire regneartene"
   ]
  },
  {
   "cell_type": "markdown",
   "id": "c5273b67-ce6f-48ef-872d-d8ed41329f50",
   "metadata": {},
   "source": [
    "Python er, som de fleste programmeringsspråk, veldig glad i å regne. La oss se hvordan vi kan få Python til å regne for oss."
   ]
  },
  {
   "cell_type": "markdown",
   "id": "fb446eae-4237-4759-bdef-4540cdec5438",
   "metadata": {},
   "source": [
    "Vi begynner med å utforske hvordan vi kan bruke Python til å regne ut enkle mattestykker. Kjør koden under!"
   ]
  },
  {
   "cell_type": "code",
   "execution_count": 1,
   "id": "4af897d7-939a-4436-9c93-1395b6d93882",
   "metadata": {},
   "outputs": [
    {
     "data": {
      "text/plain": [
       "2.0"
      ]
     },
     "execution_count": 1,
     "metadata": {},
     "output_type": "execute_result"
    }
   ],
   "source": [
    "4/2"
   ]
  },
  {
   "cell_type": "markdown",
   "id": "b63fee8c-8096-45cd-be0d-554f45545b47",
   "metadata": {},
   "source": [
    "Når programmet kjører vil det skrive ut 4 tall. Kjenner du igjen disse tallene? Skjønner du hva symbolene * og / betyr? Endre gjerne på programmet og kjør det flere ganger til du skjønner hvordan Python bruker pluss, minus, gange og dele."
   ]
  },
  {
   "cell_type": "markdown",
   "id": "6fffac40-1acc-40c3-8a0d-7f27d4f49c6e",
   "metadata": {},
   "source": [
    "# Steg 2: Vi kaster terning"
   ]
  },
  {
   "cell_type": "markdown",
   "id": "0b3b9ea2-5812-4967-85f7-dd5d6c30e9db",
   "metadata": {},
   "source": [
    "For å lage et mattespill vil vi bruke tilfeldige tall. Tilfeldige tall blir omtrent som å slå terning for å finne et tall."
   ]
  },
  {
   "cell_type": "markdown",
   "id": "4ddac7d5-946a-485f-b96b-4a5e59728221",
   "metadata": {},
   "source": [
    "For å lage tilfeldige tall skal vi bruke en ny Python-funksjon som heter randint (her er rand en forkortelse for random som betyr tilfeldig, og int en forkortelse for integer som betyr heltall). Denne funksjonen er ikke med i grunnpakken til Python, men ligger i stedet i et bibliotek kalt random. Vi må derfor fortelle Python at vi vil bruke dette biblioteket. I biblioteket følger det med mange forskjellige funksjoner for å generer tilfeldige tall, vi skal bruke funksjonen randint."
   ]
  },
  {
   "cell_type": "code",
   "execution_count": 2,
   "id": "9ccf4ca2-c4b9-445c-9461-981dbb11a38a",
   "metadata": {},
   "outputs": [
    {
     "name": "stdout",
     "output_type": "stream",
     "text": [
      "6\n"
     ]
    }
   ],
   "source": [
    "import random\n",
    "print(random.randint(1, 6))"
   ]
  },
  {
   "cell_type": "markdown",
   "id": "b8f6794f-678e-4976-9731-3f2a023be5bc",
   "metadata": {},
   "source": [
    "Når du kjører programmet vil det skrive ut et tilfeldig tall mellom 1 og 6. Kjør programmet flere ganger. Forandrer tallet seg?\n",
    "\n",
    "Prøv selv å forandre programmet slik at det skriver ut tilfeldige tall mellom 1 og 20! Eller mellom -1 og 1.\n",
    "\n",
    "Programmet viser hvordan vi kan late som om vi slår èn terning i Python. Men hvordan kan vi late som om vi slår to terninger, og ser summen av dem?\n",
    "\n",
    "Vi kan også utvide programmet slik at det slår terning mange ganger. Dette gjør vi enklest med for-løkker. Hvis du for eksempel utvider programmet ditt som følger vil det se ut som om du slår to terninger 25 ganger:"
   ]
  },
  {
   "cell_type": "code",
   "execution_count": 3,
   "id": "fc4a38c9-ce77-4494-b973-802e0051b70e",
   "metadata": {},
   "outputs": [
    {
     "name": "stdout",
     "output_type": "stream",
     "text": [
      "2\n",
      "3\n",
      "8\n",
      "7\n",
      "6\n",
      "10\n",
      "5\n",
      "3\n",
      "4\n",
      "7\n",
      "10\n",
      "9\n",
      "6\n",
      "11\n",
      "5\n",
      "7\n",
      "7\n",
      "10\n",
      "2\n",
      "6\n",
      "4\n",
      "12\n",
      "2\n",
      "10\n",
      "3\n"
     ]
    }
   ],
   "source": [
    "import random\n",
    "\n",
    "for i in range(25):\n",
    "    print(random.randint(1, 6) + random.randint(1, 6))"
   ]
  },
  {
   "cell_type": "markdown",
   "id": "82a9b173-5c63-4f70-8c7c-a3b7d5323de5",
   "metadata": {},
   "source": [
    "# Steg 3: En liten matteprøve"
   ]
  },
  {
   "cell_type": "markdown",
   "id": "441c8fb3-67dc-42a7-b3bd-b286b0613720",
   "metadata": {},
   "source": [
    "Vi kan nå bruke tilfeldige tall til å lage et enkelt mattespill. Vi begynner med å trekke to tilfeldige tall, og la Python gange dem sammen:"
   ]
  },
  {
   "cell_type": "code",
   "execution_count": 4,
   "id": "9840a734-f8f8-41f3-a595-5fa491cd8920",
   "metadata": {},
   "outputs": [
    {
     "name": "stdout",
     "output_type": "stream",
     "text": [
      "4\n",
      "2\n"
     ]
    }
   ],
   "source": [
    "import random\n",
    "\n",
    "tall1 = random.randint(2, 12)\n",
    "tall2 = random.randint(2, 12)\n",
    "\n",
    "print(tall1)\n",
    "print(tall2)\n"
   ]
  },
  {
   "cell_type": "markdown",
   "id": "db149580-539e-4658-924e-62c6ebfb3dce",
   "metadata": {},
   "source": [
    "Vi vil nå at Python skal gi oss en matteoppgave, kan vi bli spurt om å gange sammen tall1 og tall2? Vi legger til følgende kode. Hva skjer når du prøver å kjøre programmet?"
   ]
  },
  {
   "cell_type": "code",
   "execution_count": 5,
   "id": "3adf5630-6838-4859-ba40-f3d008256c09",
   "metadata": {},
   "outputs": [
    {
     "name": "stdout",
     "output_type": "stream",
     "text": [
      "Hva er 4 ganger 2?\n"
     ]
    }
   ],
   "source": [
    "print('Hva er ' + str(tall1) + ' ganger ' + str(tall2) + '?')"
   ]
  },
  {
   "cell_type": "markdown",
   "id": "1bf59e2e-1c9d-41e6-b4b6-9b799afa0172",
   "metadata": {},
   "source": [
    "I kodesnutten over får vi en feilmelding og programmet stopper. Dette MÅ fikses før vi kan gå videre i eksemplene under. Du husker kanskje at vi kan bruke + for å sette sammen tekst? Men vi bruker også + for å plusse sammen tall. I linjen over prøver vi å bruke + på både tekst og tall, og da skjønner ikke Python helt hva vi mener.\n",
    "\n",
    "For å fortelle Python at her vil vi egentlig sette sammen tekst må vi bruke funksjonen str for å gjøre om tallene til tekst (str er en forkortelse for streng, som er det vi kaller tekster på fagspråket). Endre den siste linjen slik at den ser slik ut i stedet, og kjør på nytt:\n",
    "\n",
    "print('Hva er ' + str(tall1) + ' ganger ' + str(tall2) + '?')\n",
    "\n",
    "Virker programmet ditt bedre nå? Prøv å kjøre programmet flere ganger. Blir du stilt forskjellige spørsmål?\n",
    "\n",
    "Neste steg er at vi vil kunne svare på mattestykket. Til dette bruker vi igjen funksjonen input. Se følgende kode:"
   ]
  },
  {
   "cell_type": "code",
   "execution_count": 6,
   "id": "9d17a2d7-108a-4972-aeda-d3b4e9b3f185",
   "metadata": {},
   "outputs": [
    {
     "name": "stdin",
     "output_type": "stream",
     "text": [
      " 8\n"
     ]
    },
    {
     "name": "stdout",
     "output_type": "stream",
     "text": [
      "8\n"
     ]
    }
   ],
   "source": [
    "svar = input()\n",
    "\n",
    "print(svar)"
   ]
  },
  {
   "cell_type": "markdown",
   "id": "fcbb76cb-7172-42dd-82b3-5ae75a13e1f9",
   "metadata": {},
   "source": [
    "Legg merke til at programmet nå venter på at du skal skrive inn et svar i tekstfeltet\n",
    "\n",
    "Vi skal nå få programmet til å sjekke at vi har svart riktig. For å gjøre dette skal vi bruke noe som heter if-tester. Disse kan sjekke om noe er sant, og vi vil bruke dem for å sjekke om det er sant at svaret ditt er likt med det faktiske svaret. Vi legger til en if-test nederst i programmet ditt slik som dette:"
   ]
  },
  {
   "cell_type": "code",
   "execution_count": 7,
   "id": "bf819003-4829-4490-a510-27ce3af057ea",
   "metadata": {},
   "outputs": [
    {
     "name": "stdout",
     "output_type": "stream",
     "text": [
      "Hva er 2 ganger 11?\n"
     ]
    },
    {
     "name": "stdin",
     "output_type": "stream",
     "text": [
      " 22\n"
     ]
    },
    {
     "name": "stdout",
     "output_type": "stream",
     "text": [
      "Ja, svaret er 22\n"
     ]
    }
   ],
   "source": [
    "import random\n",
    "\n",
    "tall1 = random.randint(2, 12)\n",
    "tall2 = random.randint(2, 12)\n",
    "\n",
    "print('Hva er ' + str(tall1) + ' ganger ' + str(tall2) + '?')\n",
    "svar = input()\n",
    "svar = int(svar)\n",
    "\n",
    "\n",
    "\n",
    "if svar == tall1 * tall2:\n",
    "    print('Ja, svaret er ' + str(svar))\n",
    "else:\n",
    "    print('Nei, det riktige svaret er ' + str(tall1 * tall2))"
   ]
  },
  {
   "cell_type": "markdown",
   "id": "88837f77-39df-4de8-ac0c-ddfead67e072",
   "metadata": {},
   "source": [
    "Pass på at som i for-løkker må du skyve koden i if-testen inn mot høyre.\n",
    "\n",
    "Kjør programmet ditt med forskjellige svar. Virker det? Hva skjer om du svarer feil på en oppgave? Hva skjer om du svarer riktig?\n",
    "\n",
    "Hmm ... det er et problem med programmet vårt. Programmet sier at vi svarer feil selv om vi svarer riktig!"
   ]
  },
  {
   "cell_type": "markdown",
   "id": "eee4cc00-a522-473b-bf7d-1dec04d88873",
   "metadata": {},
   "source": [
    "## Bug"
   ]
  },
  {
   "cell_type": "markdown",
   "id": "5bc7e87f-e85d-4fb6-80e9-ac0418e59b4a",
   "metadata": {},
   "source": [
    "Dette er et eksempel på noe vi kaller en bug i et program. Programmet kjører, men det gjør ikke slik som vi hadde ment og forventet. Selve ordet bug betyr insekt, og grunnen til at dette ordet brukes er at i gamle dager var det faktisk et problem at insekter fløy inn i datamaskiner og ødela programmer!\n",
    "\n",
    "Problemet med programmet vårt er ikke helt lett å finne, men siden programmet alltid sier at svaret vårt er feil må det bety at svar aldri er helt lik tall1 * tall2. Igjen er problemet at Python mener at tekst og tall er forskjellige ting.\n",
    "\n",
    "Når vi bruker input til å lese inn svar vil dette alltid være tekst, selv om vi bare skriver inn tall. På samme måte som vi kan bruke str for å gjøre om tall til tekst kan vi bruke int for å gjøre om tekst til tall (husk at int er en forkortelse for integer som betyr heltall).\n",
    "\n",
    "Endre if-linjen i programmet ditt til:\n",
    "\n",
    "if int(svar) == tall1 * tall2:\n",
    "\n",
    "Virker programmet bedre nå?"
   ]
  },
  {
   "cell_type": "markdown",
   "id": "49a8ada3-b8e6-44c0-a2a5-634a5a6bcb3e",
   "metadata": {},
   "source": [
    "# Steg 4: Telle riktige svar"
   ]
  },
  {
   "cell_type": "markdown",
   "id": "d8c8dc9c-d9dc-4ae6-97f9-48ba5697ee13",
   "metadata": {
    "tags": []
   },
   "source": [
    "Det er litt kjedelig å alltid starte programmet på nytt. La oss prøve å stille flere mattestykker etter hverandre.\n",
    "\n",
    "Hvordan kan vi lage en løkke slik at programmet stiller oss for eksempel 5 mattestykker på rad før det avsluttes? Prøv litt selv i det forrige kodevinduet før du går videre.\n",
    "\n",
    "Til slutt vil vi at programmet også skal telle hvor mange riktige svar vi klarer. For å gjøre dette skal vi bruke en variabel som vi for eksempel kan kalle ant_rett. Når vi begynner spillet passer vi på at denne er 0 siden vi ikke har svart noenting enda. Hver gang vi svarer riktig kan vi så øke verdien av variabelen med 1. Om vi også legger til en melding til slutt om hvor mange riktige svar spilleren klarte vil programmet se omtrent ut som følger:"
   ]
  },
  {
   "cell_type": "code",
   "execution_count": 8,
   "id": "9353ee7f-0e8f-49bc-a87c-c4ae3d97aece",
   "metadata": {},
   "outputs": [
    {
     "name": "stdout",
     "output_type": "stream",
     "text": [
      "Hva er 66 delt på 11?\n"
     ]
    },
    {
     "name": "stdin",
     "output_type": "stream",
     "text": [
      " 6\n"
     ]
    },
    {
     "name": "stdout",
     "output_type": "stream",
     "text": [
      "Ja, svaret er 6\n",
      "Hva er 30 delt på 3?\n"
     ]
    },
    {
     "name": "stdin",
     "output_type": "stream",
     "text": [
      " 10\n"
     ]
    },
    {
     "name": "stdout",
     "output_type": "stream",
     "text": [
      "Ja, svaret er 10\n",
      "Hva er 96 delt på 12?\n"
     ]
    },
    {
     "name": "stdin",
     "output_type": "stream",
     "text": [
      " 8\n"
     ]
    },
    {
     "name": "stdout",
     "output_type": "stream",
     "text": [
      "Ja, svaret er 8\n",
      "Hva er 36 delt på 12?\n"
     ]
    },
    {
     "name": "stdin",
     "output_type": "stream",
     "text": [
      " 3\n"
     ]
    },
    {
     "name": "stdout",
     "output_type": "stream",
     "text": [
      "Ja, svaret er 3\n",
      "Hva er 28 delt på 4?\n"
     ]
    },
    {
     "name": "stdin",
     "output_type": "stream",
     "text": [
      " 7\n"
     ]
    },
    {
     "name": "stdout",
     "output_type": "stream",
     "text": [
      "Ja, svaret er 7\n",
      "Du fikk 5 av 5\n"
     ]
    }
   ],
   "source": [
    "import random\n",
    "\n",
    "ant_stykker = 5\n",
    "ant_rett = 0\n",
    "\n",
    "for i in range(ant_stykker):\n",
    "    svar = random.randint(2, 12)\n",
    "    tall = random.randint(2, 12)\n",
    "    produkt = svar * tall\n",
    "\n",
    "    print('Hva er ' + str(produkt) + ' delt på ' + str(tall) + '?')\n",
    "    svar = input()\n",
    "\n",
    "    if float(svar) == produkt / tall:\n",
    "        print('Ja, svaret er ' + svar)\n",
    "        ant_rett = ant_rett + 1\n",
    "    else:\n",
    "        print('Nei, det riktige svaret er ' + str(produkt / tall))\n",
    "\n",
    "print('Du fikk ' + str(ant_rett) + ' av ' + str(ant_stykker))"
   ]
  },
  {
   "cell_type": "markdown",
   "id": "07bb170d-a7c8-416d-a874-0718c35e232e",
   "metadata": {},
   "source": [
    "I programmet over kan du endre på antall regnestykker og hvilken regneoperasjon du vil trene. Hva skjer hvis du prøver å gjøre spillet om til et delespill?"
   ]
  }
 ],
 "metadata": {
  "kernelspec": {
   "display_name": "Python 3 (ipykernel)",
   "language": "python",
   "name": "python3"
  },
  "language_info": {
   "codemirror_mode": {
    "name": "ipython",
    "version": 3
   },
   "file_extension": ".py",
   "mimetype": "text/x-python",
   "name": "python",
   "nbconvert_exporter": "python",
   "pygments_lexer": "ipython3",
   "version": "3.11.5"
  }
 },
 "nbformat": 4,
 "nbformat_minor": 5
}
