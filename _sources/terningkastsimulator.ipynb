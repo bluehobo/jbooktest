{
 "cells": [
  {
   "cell_type": "markdown",
   "id": "5910a209-8ae0-4b8c-980e-8f9fdf1d89b0",
   "metadata": {},
   "source": [
    "# Terningkast og store talls lov"
   ]
  },
  {
   "cell_type": "markdown",
   "id": "62c1bc10-bb2c-4f51-b3ac-5a4dc800bc84",
   "metadata": {},
   "source": [
    "Dette kan ta noen sekunder ved første kjøring dersom bibliotekene ikke allerede installert"
   ]
  },
  {
   "cell_type": "markdown",
   "id": "532a62d9-2145-44ec-80ee-e2887520b061",
   "metadata": {},
   "source": [
    "## Terningkastsimulator"
   ]
  },
  {
   "cell_type": "markdown",
   "id": "d78eda7b-2730-4eee-9e4c-1fa9720d3683",
   "metadata": {
    "tags": []
   },
   "source": [
    "Terningkastsimulator\n",
    "Velg antall sider og antall kast\n",
    "Programmet regner ut gjennomsnitt og relativ frekvens for forsøket,\n",
    "og viser et søylediagram med relativ frekvens.\n",
    "\n",
    "Programmet illustrerer forskjellen mellom forventningsverdi på det stokastiske\n",
    "forsøket, og det reelle gjennomsnittet i faktiske forsøk.\n",
    "\n",
    "Ved å øke antall kast kan man vise hvordan store talls lov fungerer\n",
    "\n",
    "Created on Thu Feb  3 10:27:45 2022\n",
    "\n",
    "@author: Sigurd Rage, USN"
   ]
  },
  {
   "cell_type": "raw",
   "id": "f3fc6d84-b702-4c71-a462-635f3c7d26b0",
   "metadata": {},
   "source": [
    "<html><iframe src=\"https://trinket.io/embed/python3/a11adeefd4\" width=\"100%\" height=\"600\" frameborder=\"0\" marginwidth=\"0\" marginheight=\"0\" allowfullscreen></iframe></html>"
   ]
  },
  {
   "cell_type": "code",
   "execution_count": null,
   "id": "8d78fead-9415-4ce9-8b26-2ae9abf52bb1",
   "metadata": {
    "tags": []
   },
   "outputs": [],
   "source": [
    "# nødvendige biblioteker\n",
    "import random\n",
    "import numpy as np\n",
    "import matplotlib.pyplot as plt\n",
    "\n",
    "# setter opp terning og antall kast. Forsøk å øke antall kast og se hva som skjer!\n",
    "sider = 6\n",
    "antall_kast = 100000\n",
    "\n",
    "\n",
    "# Sannsynlighet for hvert utfall beregnet (uniform sannsynlighetsmodell)\n",
    "sannsynlig_utfall = 1/sider\n",
    "forventningsverdi = (sider+1)/2\n",
    "\n",
    "# variabel for å summere terningene i forsøket\n",
    "minSum = 0\n",
    "# tabell for å telle antall forekomster av hvert utfall\n",
    "fordeling = np.zeros(sider)\n",
    "\n",
    "# kaster terningen, husker sum og antall forekomster\n",
    "for i in range (0, antall_kast):\n",
    "    terningkast = random.randint(1, sider)\n",
    "    minSum += terningkast\n",
    "    fordeling[terningkast-1]+=1\n",
    "\n",
    "# regner ut gjennomsnittet og relativ frekvens for hvert utfall\n",
    "gjennomsnitt = minSum/antall_kast\n",
    "relativ_frekvens = fordeling/antall_kast\n",
    "# skriver resultatene til skjerm, sammenligner med beregnede verdier\n",
    "print(\"Forventningsverdi til forsøket: \" + str(forventningsverdi))\n",
    "print(\"Gjennomsnitt i forsøket: \" + str(gjennomsnitt))\n",
    "print(\"Avvik fra beregnet forventningsverdi: \" + str(gjennomsnitt-forventningsverdi))\n",
    "print()\n",
    "print(\"Beregnet sannsynlighet for hvert utfall: \" + str(sannsynlig_utfall))\n",
    "print(\"Relativ frekvens: \" + str(relativ_frekvens))\n",
    "print(\"Avvik fra beregnet sannsynlig utfall: \" + str(relativ_frekvens-sannsynlig_utfall))\n",
    "\n",
    "# Lager et søylediagram over relativ frekvens, sannsynlighet for utfall\n",
    "# angitt med rød linje, gjennomsnitt og forventningsverdi som vertikale linjer\n",
    "akse = np.linspace(1, sider, sider)\n",
    "fig = plt.figure()\n",
    "ax = fig.add_axes([0,0,1,1])\n",
    "ax.bar(akse,relativ_frekvens)\n",
    "plt.hlines(sannsynlig_utfall, 1, sider, color=\"black\")\n",
    "plt.vlines(forventningsverdi, 0, sannsynlig_utfall, color=\"black\")\n",
    "plt.vlines(gjennomsnitt, 0, sannsynlig_utfall, color=\"red\")\n",
    "plt.title(\"Relativ frekvens med \" + str(antall_kast) + \" terninger\" )\n",
    "plt.xlabel(\"Resultat\")\n",
    "plt.ylabel(\"Relativ frekvens\")\n",
    "plt.show()"
   ]
  }
 ],
 "metadata": {
  "kernelspec": {
   "display_name": "Python 3 (ipykernel)",
   "language": "python",
   "name": "python3"
  },
  "language_info": {
   "codemirror_mode": {
    "name": "ipython",
    "version": 3
   },
   "file_extension": ".py",
   "mimetype": "text/x-python",
   "name": "python",
   "nbconvert_exporter": "python",
   "pygments_lexer": "ipython3",
   "version": "3.9.16"
  }
 },
 "nbformat": 4,
 "nbformat_minor": 5
}
