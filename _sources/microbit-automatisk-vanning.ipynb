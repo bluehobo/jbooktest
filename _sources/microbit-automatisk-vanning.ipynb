{
 "cells": [
  {
   "cell_type": "markdown",
   "id": "ac7bbe05-27af-4b8b-8ffe-be9c945194d6",
   "metadata": {},
   "source": [
    "# Automatisk potteplantevanning"
   ]
  },
  {
   "cell_type": "markdown",
   "id": "446ef3a1-e567-446c-b3fb-b3781e0edbca",
   "metadata": {
    "tags": []
   },
   "source": [
    "![potteplante](images/potteplante-mikrobit.jpg)\n",
    "---"
   ]
  },
  {
   "cell_type": "markdown",
   "id": "c731eaf7-e656-4297-a503-6b8b64a1201b",
   "metadata": {},
   "source": [
    "Av Sigurd Rage, USN\n",
    "## Introduksjon\n",
    "I denne aktiviteten skal vi se på hvordan vi kan bruke en microbit til å styre en vannpumpe basert på sensordata fra en jordfuktsensor. Først kommer en beskrivelse av et nesten ferdig system med fuktsensor og pumpe koblet ferdig koblet til microbiten, deretter kommer et forslag til hvordan dette prosjektet kan gjennomføres i klasserommet. Prosjektet krever at man har tilgang på et “breakout board” for microbit, ellers er det utstyret som kreves hyllevare og relativt billig i anskaffelse.\n",
    "\n",
    "Hele prosjektet, med halvferdig kode kan lastes ned her:\n",
    "\n",
    "https://www.tinkercad.com/things/0w034yFNd52?sharecode=QMJCpwQsSBU0375orkOx1ITjqXw1VgHsDG9D1CzmHjE"
   ]
  },
  {
   "cell_type": "markdown",
   "id": "e6cd4889-46f5-4f4a-9435-fd3812478c98",
   "metadata": {},
   "source": [
    "## Kompetansemål (LK2020)\n",
    "* designe og lage et produkt basert på en kravspesifikasjon (4. trinn)\n",
    "* utforske teknologiske systemer som er satt sammen av ulike deler, og beskrive hvordan delene fungerer og virker sammen (4. trinn)\n",
    "* designe og lage et produkt basert på brukerbehov (7. trinn)\n",
    "* utforske, lage og programmere teknologiske systemer som består av deler som virker sammen (7. trinn)\n",
    "* bruke programmering til å utforske naturfaglige fenomener (10. trinn)\n",
    "\n",
    "Aktiviteten passer nok best for elever fra 7. trinn og oppover som er vant til å bruke tilleggssutstyr til microbit, feks TinkerKit eller tilsvarende. Det er også et opplegg som kan kobles til elektrisitets- og kretslære."
   ]
  },
  {
   "cell_type": "markdown",
   "id": "4d664b63-1d15-4b21-a93b-a59261e3954a",
   "metadata": {},
   "source": [
    "## Utstyrsliste\n",
    "* Microbit (V1 eller V2)\n",
    "* Breakout board\n",
    "* Koblingsbrett\n",
    "* Jordfuktsensor (resistiv type)\n",
    "* Motstand 2.2 kΩ\n",
    "* Transistor NPN (feks BC377)\n",
    "* Vannpumpe (3 – 5V)\n",
    "* Eksperimentkabler\n",
    "* Krokodillekabler\n",
    "* Slange til vannpumpe\n",
    "* Vanntank\n",
    "* Potteplante"
   ]
  },
  {
   "cell_type": "markdown",
   "id": "22a8513a-0453-4db8-9081-f81427cc9de7",
   "metadata": {
    "tags": []
   },
   "source": [
    "## Koblingsskjema og komponenter"
   ]
  },
  {
   "cell_type": "markdown",
   "id": "7b1194d1-bbe8-4a28-8b53-596487bedfdd",
   "metadata": {
    "tags": []
   },
   "source": [
    "![Koblingsskjema med mikrobit og komponenter](images/koblingsskjema-plantevanner.png)"
   ]
  },
  {
   "cell_type": "markdown",
   "id": "a33d3e08-6400-4efc-b9c5-4b9c21d2837f",
   "metadata": {},
   "source": [
    "I dette skjemaet er jordfuktssensoren koblet til P0 og pumpestyringen koblet til P1. Transistoren virker som en bryter for pumpestyring, og får styringssignalet fra P1. Mellom P1 og transistoren ligger en motstand på 2.2kΩ, da transistoren kun trenger bittelitt strøm for å “slå inn”"
   ]
  },
  {
   "cell_type": "markdown",
   "id": "c8ffcc12-8ed3-475f-8f17-8698b494264b",
   "metadata": {
    "tags": []
   },
   "source": [
    "### Jordfuktsensor"
   ]
  },
  {
   "cell_type": "markdown",
   "id": "cb553e31-724c-4658-8f29-e6705799d73c",
   "metadata": {},
   "source": [
    "I dette prosjektet brukes en såkalt resistiv jordfuktssensor, som er den enkleste og billigste typen. Denne sensoren har normalt 3 eller 4 koblingspunkter ut fra modulen. VCC kobles til 3V og GND kobles til 0V. AO (analog out) vil gi en spenning inn på P0 avhengig av hvor fuktig jorden i potteplanten er. På noen sensortyper står det SIG istedet for AO på signalpinnen (se kretstegning)\n",
    "\n",
    "Noen slike sensorer har også en DO (digital out), denne skal ikke brukes.\n",
    "\n",
    "Sensoren måler elektrisk motstand i plantejorda. Når jorda blir fuktig vil den lede mer strøm mellom elektrodene enn hvis den er tørr. Typisk vil spenningen fra AO være høyere ved tørr jord og lavere ved fuktig jord. Denne spenningsverdien blir avlest som en digital heltallsverdi av microbit, som vi kan bruke i styringsprogrammet til å ta en avgjørelse om potteplanten trenger vanning. For å en fornuftig terskelverdi for vanning bør man teste denne sensoren i jord.\n",
    "\n",
    "En svakhet med denne typer sensorer er at de korroderer i fuktig miljø, som gir de en noe kort levetid. Det finnes også kapasitive jordfuktsensorer, som koster noe mer og har litt mer komplisert tilkobling."
   ]
  },
  {
   "cell_type": "markdown",
   "id": "e2246199-c341-486c-9468-324824ac18fe",
   "metadata": {},
   "source": [
    "### Vannpumpe"
   ]
  },
  {
   "cell_type": "markdown",
   "id": "4f09c925-c98c-43c0-b807-c41264474798",
   "metadata": {},
   "source": [
    "Dette er en vannpumpe som drives av en DC-motor (likestrømsmotor) som krever mellom 3 og 5V. Pumpemotoren trekker en god del strøm, og kan derfor ikke styres direkte fra pinnene til microbiten. Istedet kobles motoren rett på microbitens innebygde strømkilde, pinnene 3V og 0V, men for å kunne styre den, legger vi en transistor imellom. Da vil transistoren fungere som en elektronisk bryter til pumpen.\n",
    "\n",
    "Microbit sine tilkoblingsporter kan maksimalt levere 10mA strøm, mens 3V – pinnen kan levere 90mA (V1) eller opptil 120mA (V2).\n",
    "\n",
    "En annen ting å ha i bakhodet er at denne pumpen er relativt svak, så vannreservoaret bør være i samme høyde som potteplanten."
   ]
  },
  {
   "cell_type": "markdown",
   "id": "0b9c9ab4-f43b-45da-b681-6258dfbc8b59",
   "metadata": {},
   "source": [
    "### Transistor"
   ]
  },
  {
   "cell_type": "markdown",
   "id": "93de5405-800f-47c5-8608-292e51cb4109",
   "metadata": {},
   "source": [
    "Transistoren er en av det 20. århundrets største oppfinnelser og har muliggjort alle de avanserte digitale enhetene vi omgir oss med til daglig. Det er en halvlederkomponent, og har 3 tilkoblinger: Base, Collector og Emitter. I denne kretsen fungerer transistoren rett og slett som en elektronisk bryter, som kan styre om det skal gå strøm igjennom eller ikke. Base kobles i retning mot +3V og Emitter kobles i retning mot 0V (eller GND). Hvorvidt det går strøm gjennom transistoren eller ikke styres av Collector. Det skal svært lite strøm til på Collector for at transistoren leder, derfor kobler vi en relativt stor motstand i serie foran denne terminalen (tilkoblingen). I kretsen under er transistoren satt inn mellom 3V og pumpen. Når det ikke går strøm inn på Base fra P1 vil transistoren sperre for strøm til motoren."
   ]
  },
  {
   "cell_type": "markdown",
   "id": "78034ba6-b181-4431-9f36-76f32c1882c0",
   "metadata": {},
   "source": [
    "Det er forsåvidt akkurat det samme om transistoren er koblet som vist, eller om den er koblet inn mellom motor og GND"
   ]
  },
  {
   "cell_type": "markdown",
   "id": "25f25a45-8ce3-4b3d-b72d-3063e5fce02d",
   "metadata": {},
   "source": [
    "## Kretsskjema"
   ]
  },
  {
   "cell_type": "markdown",
   "id": "f744e5e8-aa4d-4ce8-a525-497486c7581a",
   "metadata": {},
   "source": [
    "![Kretsskjema for prosjektet](images/potteplantevanner-kretsskjema.png)"
   ]
  },
  {
   "cell_type": "markdown",
   "id": "5215c141-341f-413f-bb31-7cf9b48493bd",
   "metadata": {},
   "source": [
    "Over ser vi et mer standardisert kretsskjema for prosjektet. I sammenligning med koblingsskjemaet lenge opp er det mer abstrakt, men selve sammenkoblingen av komponentene er mer tydelig og oversiktlig."
   ]
  },
  {
   "cell_type": "markdown",
   "id": "041b36a0-2dc7-4d68-ba7b-22f0124e37a8",
   "metadata": {},
   "source": [
    "## Reell oppkobling (kabelspaghetti)"
   ]
  },
  {
   "cell_type": "markdown",
   "id": "e42869c6-9ee2-4595-9395-6b22f904f1d6",
   "metadata": {},
   "source": [
    "![Hvordan det egentlig ser ut](images/kabelspaghetti.jpg)"
   ]
  },
  {
   "cell_type": "markdown",
   "id": "b9de8dce-3833-4cdd-b5b6-51850ce4ac41",
   "metadata": {},
   "source": [
    "Alle skjematiske fremstillinger av kretser ser som regel mye ryddigere ut på papir enn hvordan den faktiske kretsen blir seendes ut på brettet. Hvordan komponentene kobles sammen på koblingsbrettet, og hvordan man får koblet de eksterne delene inn på kretsen krever noe kunnskap om på hvilke måter dette kan gjøres. I litteraturen om teknologi i skolen kalles dette for “handlingskunnskap”.\n",
    "\n",
    "I dette eksempelet har vi brukt eksperimentkabler, som er ferdig lagde kabler med hann- og hunnterminaler som passer til brettet, samt krokodillekabler for å koble på pumpen.\n",
    "\n",
    "Det er også fullt mulig å koble at sammen kun med krokodillekabler, uten koblingsbrett, da blir kabelsalaten tilsvarende mer rotete 🙂"
   ]
  },
  {
   "cell_type": "markdown",
   "id": "d9623543-b3de-4268-96da-4f66feb1fe43",
   "metadata": {},
   "source": [
    "## Programmering av styringsenheten"
   ]
  },
  {
   "cell_type": "markdown",
   "id": "dab82892-1fbd-4208-ab63-d2b264d0018c",
   "metadata": {
    "tags": []
   },
   "source": [
    "![Eksempelkode for styringsenheten](images/pumpestyring-makecode.png)"
   ]
  },
  {
   "cell_type": "markdown",
   "id": "4269f47e-eba9-4914-94d1-9b56232bdfe1",
   "metadata": {},
   "source": [
    "Programmet over kan være et godt utgangspunkt for styring av pumpen, men den er ikke ferdig. Likevel, et par viktige momenter å ta med seg:\n",
    "\n",
    "Sensorverdier fra jordfuktsensoren leses som analogverdi fra P0\n",
    "\n",
    "Styring av pumpen skjer ved å sette digital verdi på P1 til 1 (3V) for å starte pumpen, og digital verdi P1 til 0 (0V) for å stoppe den.\n",
    "\n",
    "I blokken “ved start” setter vi styringssignalet til pumpen til LOW, eller 0V for å være helt sikre på at pumpen ikke starter av seg selv\n",
    "\n",
    "For å kunne lese av den digitale verdien fra jordfuktsensoren har vi en kodeblogg “når knapp A trykkes” som skriver denne verdien til skjerm. Dette kan være nyttig for å finne ut hva slags verdier som denne sensoren gir fra tørr eller fuktig jord.\n",
    "\n",
    "Selve pumpestyringen skjer i “gjenta for alltid”-sløyfen. I denne eksempelkoden er grensen for at pumpen skal starte satt til verdien 500, men den reelle grenseverdien må finnes ved utprøving på en reell potteplante.\n",
    "\n",
    "Dersom avlest verdi er høyere enn grenseverdien vil if-testen slå inn, og pumpen kjøres i 5 sekunder. Denne verdien må også finnes ved eksperimentering: hvor mye vann pumpes per tid, og hvor mye vann trenger potteplanten per vanning.\n",
    "\n",
    "Deretter venter systemet i 1 minutt før den sjekker fuktigheten i potteplanten på nytt. Dette er nok alt for kort tid i en reell situasjon, og systemet trenger kanskje ikke å sjekke for vanning mer enn et par ganger om dagen. Dessuten trenger potteplanten noe tid for at vannet skal fordeles jevnt i jorden.\n",
    "\n",
    "Altså:\n",
    "* Man må finne en reell grenseverdi for jordfuktsensoren slik at vanning kommer på ønsket tørrhet\n",
    "* Man må beregne hvor mye vann som trenges for hver vanning, og hvor lang tid dette tar for pumpen\n",
    "* Man må legge inn en generell forsinkelse slik at planten ikke overvannes. Typisk trenger man ikke å sjekke jordfukten mer enn en gang om dagen."
   ]
  },
  {
   "cell_type": "markdown",
   "id": "b71d7b3d-318f-4c02-9fa4-067e68800066",
   "metadata": {},
   "source": [
    "Koden kan lastes ned fra makecode.org her: https://makecode.microbit.org/_bfKHo6A08Ecc"
   ]
  },
  {
   "cell_type": "code",
   "execution_count": null,
   "id": "eaf0274a-076a-499f-99dd-0fa57a45d5c5",
   "metadata": {},
   "outputs": [],
   "source": []
  }
 ],
 "metadata": {
  "kernelspec": {
   "display_name": "Python 3 (ipykernel)",
   "language": "python",
   "name": "python3"
  },
  "language_info": {
   "codemirror_mode": {
    "name": "ipython",
    "version": 3
   },
   "file_extension": ".py",
   "mimetype": "text/x-python",
   "name": "python",
   "nbconvert_exporter": "python",
   "pygments_lexer": "ipython3",
   "version": "3.10.11"
  }
 },
 "nbformat": 4,
 "nbformat_minor": 5
}
