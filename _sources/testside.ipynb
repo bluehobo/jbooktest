{
 "cells": [
  {
   "cell_type": "markdown",
   "id": "c35c2684-5a1b-4899-8b6a-29038d27da42",
   "metadata": {},
   "source": [
    "# Testpage"
   ]
  },
  {
   "cell_type": "markdown",
   "id": "bd4e0786-7a4f-4885-8e14-2f3496fb9c4c",
   "metadata": {},
   "source": [
    "Sjekker om dette kommer på nett"
   ]
  },
  {
   "cell_type": "code",
   "execution_count": null,
   "id": "d5eddb3c-aa9e-42a3-b2ac-c63ffcd2d826",
   "metadata": {},
   "outputs": [],
   "source": []
  }
 ],
 "metadata": {
  "kernelspec": {
   "display_name": "Python 3 (ipykernel)",
   "language": "python",
   "name": "python3"
  },
  "language_info": {
   "codemirror_mode": {
    "name": "ipython",
    "version": 3
   },
   "file_extension": ".py",
   "mimetype": "text/x-python",
   "name": "python",
   "nbconvert_exporter": "python",
   "pygments_lexer": "ipython3",
   "version": "3.11.5"
  }
 },
 "nbformat": 4,
 "nbformat_minor": 5
}
