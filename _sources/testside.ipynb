{
 "cells": [
  {
   "cell_type": "markdown",
   "id": "c35c2684-5a1b-4899-8b6a-29038d27da42",
   "metadata": {},
   "source": [
    "# Testpage"
   ]
  },
  {
   "cell_type": "markdown",
   "id": "bd4e0786-7a4f-4885-8e14-2f3496fb9c4c",
   "metadata": {},
   "source": [
    "Sjekker om dette kommer på nett"
   ]
  },
  {
   "cell_type": "markdown",
   "id": "f9871d74-e73e-4df9-8cda-4cd1f2a8ea30",
   "metadata": {},
   "source": [
    "## Nytt avsnitt"
   ]
  },
  {
   "cell_type": "code",
   "execution_count": 1,
   "id": "58d83601-9622-443d-8c9d-541f818f60f4",
   "metadata": {},
   "outputs": [
    {
     "name": "stdout",
     "output_type": "stream",
     "text": [
      "168\n"
     ]
    }
   ],
   "source": [
    "a = 12\n",
    "b = 14\n",
    "\n",
    "print(str(12*14))"
   ]
  },
  {
   "cell_type": "code",
   "execution_count": null,
   "id": "fa3fce85-5066-4e79-8da4-07b4571b7cb7",
   "metadata": {},
   "outputs": [],
   "source": []
  }
 ],
 "metadata": {
  "kernelspec": {
   "display_name": "Python 3 (ipykernel)",
   "language": "python",
   "name": "python3"
  },
  "language_info": {
   "codemirror_mode": {
    "name": "ipython",
    "version": 3
   },
   "file_extension": ".py",
   "mimetype": "text/x-python",
   "name": "python",
   "nbconvert_exporter": "python",
   "pygments_lexer": "ipython3",
   "version": "3.10.11"
  }
 },
 "nbformat": 4,
 "nbformat_minor": 5
}
