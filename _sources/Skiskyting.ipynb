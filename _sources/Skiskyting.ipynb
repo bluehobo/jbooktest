{
 "cells": [
  {
   "cell_type": "markdown",
   "id": "aff5aa96-5ad8-4114-b41f-b5e298e5ec7b",
   "metadata": {},
   "source": [
    "# Skiskyting - visuell simulering"
   ]
  },
  {
   "cell_type": "markdown",
   "id": "f9b8de5e-2a9f-40e9-b6b9-9fbead405f4d",
   "metadata": {},
   "source": [
    "Fra \"Kaares kokebok i programmering\", oppgave 10.7 - av Kaare E. Jørgensen og Stein A. Dahl"
   ]
  },
  {
   "cell_type": "code",
   "execution_count": null,
   "id": "45750311-3090-40aa-a942-527f4301e572",
   "metadata": {},
   "outputs": [],
   "source": [
    "! pip install turtle\n",
    "! pip install random\n",
    "! pip install time"
   ]
  },
  {
   "cell_type": "code",
   "execution_count": null,
   "id": "32cf0cfc-51ae-4700-aa71-5563e3d54ffa",
   "metadata": {},
   "outputs": [],
   "source": [
    "from turtle import *\n",
    "from random import random\n",
    "clear()\n",
    "\n",
    "treff = 0.6\n",
    "dot(20, 'black')\n",
    "\n",
    "if random() < treff:\n",
    "    print('treff')\n",
    "    dot(10, 'white')\n",
    "else:\n",
    "    print('bom')"
   ]
  },
  {
   "cell_type": "markdown",
   "id": "0f974c6c-4864-47e4-8361-e55c5062dc9c",
   "metadata": {},
   "source": [
    "I skiskyting skytes en serie på 5 skudd. Vi skal lage et program som skal simulere dette. I koden ovenfor er treffsannsynligheten satt til 0.6, det vil si at sannsynligheten for å treffe er 60%\n",
    "\n",
    "a) Les koden ovenfor og gjett resultatet av denne. random() produserer et tilfeldig tall mellom 0 og 1\n",
    "\n",
    "b) Kjør programmet minst 5 ganger og se hva som skjer\n",
    "\n",
    "c) Legg til kode slik at når det blir bom, så skal programmet tegne en rød sirkel istedet for en hvit.\n",
    "\n",
    "d) Legg til kode for å tegne en blink til. Simuler at det skytes på 2 blinker. Hvis du har endret på treffhyppigheten, sett den tilbake til treff=2. Hint: Bruk forward(40) før du tegner blink nummer to.\n",
    "\n",
    "e) Skriv programmet ferdig slik at du skyter på 5 blinker. Vi antar at skytteren bruker 2 sekunder på å sikte seg inn på hver blink. Du kan få bruk for blant annet disse kodene:\n",
    "\n",
    "* from time import sleep\n",
    "* for i in range(5)\n",
    "* sleep(2)\n",
    "* forward(40)"
   ]
  }
 ],
 "metadata": {
  "kernelspec": {
   "display_name": "Python 3 (ipykernel)",
   "language": "python",
   "name": "python3"
  },
  "language_info": {
   "codemirror_mode": {
    "name": "ipython",
    "version": 3
   },
   "file_extension": ".py",
   "mimetype": "text/x-python",
   "name": "python",
   "nbconvert_exporter": "python",
   "pygments_lexer": "ipython3",
   "version": "3.9.16"
  }
 },
 "nbformat": 4,
 "nbformat_minor": 5
}
