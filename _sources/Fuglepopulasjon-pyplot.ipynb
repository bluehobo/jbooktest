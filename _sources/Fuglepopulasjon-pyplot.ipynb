{
 "cells": [
  {
   "cell_type": "markdown",
   "id": "dae6eb00-3944-4670-8e80-4a30d15fc5fb",
   "metadata": {},
   "source": [
    "# Fuglepopulasjon"
   ]
  },
  {
   "cell_type": "code",
   "execution_count": null,
   "id": "482a66d7-7af2-4491-9d1d-4ac6745374a1",
   "metadata": {},
   "outputs": [],
   "source": [
    "! pip install matplotlib --quiet"
   ]
  },
  {
   "cell_type": "code",
   "execution_count": null,
   "id": "c2470bbd-06bc-4ce9-978d-8ac5dd95655a",
   "metadata": {},
   "outputs": [],
   "source": [
    "# -*- coding: utf-8 -*-\n",
    "\"\"\"\n",
    "Created on Tue Feb 22 19:23:49 2022\n",
    "\n",
    "@author: sigur\n",
    "\"\"\"\n",
    "\n",
    "import math as m\n",
    "import matplotlib.pyplot as plt\n",
    "\n",
    "antall_generasjoner = 5\n",
    "\n",
    "radius = 5\n",
    "avstand = 10\n",
    "\n",
    "x_start=1\n",
    "y_start=0\n",
    "\n",
    "x = x_start\n",
    "y = y_start\n",
    "\n",
    "brune = 8\n",
    "rode = 2\n",
    "plt.clf()\n",
    "plt.axes()\n",
    "\n",
    "for i in range(antall_generasjoner):\n",
    "    \n",
    "    #skriver ut antallet av hver type fugl\n",
    "    print(\"andtall brune: \"+ str(brune))\n",
    "    print(\"antall røde: \" + str(rode))\n",
    "    \n",
    "    #tegner en sirkel for hver fugl, røde og brune\n",
    "    for j in range(brune):\n",
    "        plt.gca().add_patch(plt.Circle((x, y), radius=0.3, fc='brown'))\n",
    "        x+=1\n",
    "    \n",
    "    for j in range(rode):\n",
    "        plt.gca().add_patch(plt.Circle((x, y), radius=0.3, fc='red'))\n",
    "        x+=1\n",
    "    \n",
    "    # regner ut neste iterasjon\n",
    "    rode =   m.floor(rode * (1/2))\n",
    "    brune = m.floor(brune * (3/4))\n",
    "    rode = rode * 4\n",
    "    brune = brune\n",
    "    x=x_start\n",
    "    y-=1\n",
    "\n",
    "plt.axis('scaled')\n",
    "plt.show()\n",
    "\n",
    "print(\"ferdig\")"
   ]
  }
 ],
 "metadata": {
  "kernelspec": {
   "display_name": "Python 3 (ipykernel)",
   "language": "python",
   "name": "python3"
  },
  "language_info": {
   "codemirror_mode": {
    "name": "ipython",
    "version": 3
   },
   "file_extension": ".py",
   "mimetype": "text/x-python",
   "name": "python",
   "nbconvert_exporter": "python",
   "pygments_lexer": "ipython3",
   "version": "3.9.16"
  }
 },
 "nbformat": 4,
 "nbformat_minor": 5
}
